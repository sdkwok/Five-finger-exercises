{
 "cells": [
  {
   "cell_type": "markdown",
   "metadata": {},
   "source": [
    "# Every Possible Combination of Attributes: Multiclass Logistic Regression on Iris Data\n",
    "## Dataset source: http://archive.ics.uci.edu/ml/datasets/Iris\n",
    "\n",
    "## Inspired by Kevin Markham's \"Logistic Regression with Scikit-Learn\": http://nbviewer.jupyter.org/gist/justmarkham/6d5c061ca5aee67c4316471f8c2ae976"
   ]
  },
  {
   "cell_type": "markdown",
   "metadata": {},
   "source": [
    "### Importing libraries/downloading data"
   ]
  },
  {
   "cell_type": "code",
   "execution_count": 3,
   "metadata": {},
   "outputs": [],
   "source": [
    "import numpy as np\n",
    "import pandas as pd\n",
    "import statsmodels.api as sm\n",
    "import seaborn as sns\n",
    "import matplotlib.pyplot as plt\n",
    "from sklearn.linear_model import LogisticRegression\n",
    "from sklearn.model_selection import train_test_split\n",
    "from sklearn import metrics\n",
    "from sklearn.model_selection import cross_val_score"
   ]
  },
  {
   "cell_type": "markdown",
   "metadata": {},
   "source": [
    "We correct a couple of errors in the data (see the source webpage):"
   ]
  },
  {
   "cell_type": "code",
   "execution_count": 4,
   "metadata": {},
   "outputs": [
    {
     "data": {
      "text/html": [
       "<div>\n",
       "<style>\n",
       "    .dataframe thead tr:only-child th {\n",
       "        text-align: right;\n",
       "    }\n",
       "\n",
       "    .dataframe thead th {\n",
       "        text-align: left;\n",
       "    }\n",
       "\n",
       "    .dataframe tbody tr th {\n",
       "        vertical-align: top;\n",
       "    }\n",
       "</style>\n",
       "<table border=\"1\" class=\"dataframe\">\n",
       "  <thead>\n",
       "    <tr style=\"text-align: right;\">\n",
       "      <th></th>\n",
       "      <th>sepal_L</th>\n",
       "      <th>sepal_W</th>\n",
       "      <th>petal_L</th>\n",
       "      <th>petal_W</th>\n",
       "      <th>irisclass</th>\n",
       "    </tr>\n",
       "  </thead>\n",
       "  <tbody>\n",
       "    <tr>\n",
       "      <th>0</th>\n",
       "      <td>5.1</td>\n",
       "      <td>3.5</td>\n",
       "      <td>1.4</td>\n",
       "      <td>0.2</td>\n",
       "      <td>Iris-setosa</td>\n",
       "    </tr>\n",
       "    <tr>\n",
       "      <th>1</th>\n",
       "      <td>4.9</td>\n",
       "      <td>3.0</td>\n",
       "      <td>1.4</td>\n",
       "      <td>0.2</td>\n",
       "      <td>Iris-setosa</td>\n",
       "    </tr>\n",
       "    <tr>\n",
       "      <th>2</th>\n",
       "      <td>4.7</td>\n",
       "      <td>3.2</td>\n",
       "      <td>1.3</td>\n",
       "      <td>0.2</td>\n",
       "      <td>Iris-setosa</td>\n",
       "    </tr>\n",
       "    <tr>\n",
       "      <th>3</th>\n",
       "      <td>4.6</td>\n",
       "      <td>3.1</td>\n",
       "      <td>1.5</td>\n",
       "      <td>0.2</td>\n",
       "      <td>Iris-setosa</td>\n",
       "    </tr>\n",
       "    <tr>\n",
       "      <th>4</th>\n",
       "      <td>5.0</td>\n",
       "      <td>3.6</td>\n",
       "      <td>1.4</td>\n",
       "      <td>0.2</td>\n",
       "      <td>Iris-setosa</td>\n",
       "    </tr>\n",
       "  </tbody>\n",
       "</table>\n",
       "</div>"
      ],
      "text/plain": [
       "   sepal_L  sepal_W  petal_L  petal_W    irisclass\n",
       "0      5.1      3.5      1.4      0.2  Iris-setosa\n",
       "1      4.9      3.0      1.4      0.2  Iris-setosa\n",
       "2      4.7      3.2      1.3      0.2  Iris-setosa\n",
       "3      4.6      3.1      1.5      0.2  Iris-setosa\n",
       "4      5.0      3.6      1.4      0.2  Iris-setosa"
      ]
     },
     "execution_count": 4,
     "metadata": {},
     "output_type": "execute_result"
    }
   ],
   "source": [
    "iris = pd.read_csv('http://archive.ics.uci.edu/ml/machine-learning-databases/iris/iris.data', names = ['sepal_L', 'sepal_W', 'petal_L', 'petal_W', 'irisclass'])\n",
    "\n",
    "iris.at[34, 'petal_W'] = 0.2\n",
    "iris.at[37, 'sepal_W'] = 3.6\n",
    "iris.at[37, 'petal_L'] = 1.4\n",
    "\n",
    "iris.head()"
   ]
  },
  {
   "cell_type": "markdown",
   "metadata": {},
   "source": [
    "### Data exploration and visualization:"
   ]
  },
  {
   "cell_type": "code",
   "execution_count": 5,
   "metadata": {},
   "outputs": [
    {
     "name": "stdout",
     "output_type": "stream",
     "text": [
      "                 sepal_L  sepal_W  petal_L  petal_W\n",
      "irisclass                                          \n",
      "Iris-setosa        5.006    3.428    1.462    0.246\n",
      "Iris-versicolor    5.936    2.770    4.260    1.326\n",
      "Iris-virginica     6.588    2.974    5.552    2.026\n",
      "                  sepal_L   sepal_W   petal_L   petal_W\n",
      "irisclass                                              \n",
      "Iris-setosa      0.352490  0.379064  0.173664  0.105386\n",
      "Iris-versicolor  0.516171  0.313798  0.469911  0.197753\n",
      "Iris-virginica   0.635880  0.322497  0.551895  0.274650\n"
     ]
    }
   ],
   "source": [
    "statsmean = iris.groupby('irisclass').mean()\n",
    "print(statsmean)\n",
    "statsdev = iris.groupby('irisclass').std()\n",
    "print(statsdev)"
   ]
  },
  {
   "cell_type": "markdown",
   "metadata": {},
   "source": [
    "We'll do some bar plots to get a feel for the data, using a for loop to save us some time."
   ]
  },
  {
   "cell_type": "code",
   "execution_count": 6,
   "metadata": {},
   "outputs": [
    {
     "data": {
      "image/png": "[encoded data removed]",
      "text/plain": [
       "<matplotlib.figure.Figure at 0x1c14c602b0>"
      ]
     },
     "metadata": {},
     "output_type": "display_data"
    },
    {
     "data": {
      "image/png": "[encoded data removed]",
      "text/plain": [
       "<matplotlib.figure.Figure at 0x1c1da7eeb8>"
      ]
     },
     "metadata": {},
     "output_type": "display_data"
    },
    {
     "data": {
      "image/png": "[encoded data removed]",
      "text/plain": [
       "<matplotlib.figure.Figure at 0x1c1dcc39b0>"
      ]
     },
     "metadata": {},
     "output_type": "display_data"
    },
    {
     "data": {
      "image/png": "[encoded data removed]",
      "text/plain": [
       "<matplotlib.figure.Figure at 0x1c1df33438>"
      ]
     },
     "metadata": {},
     "output_type": "display_data"
    }
   ],
   "source": [
    "full_labels = {'sepal_L' : 'Sepal Length', 'sepal_W': 'Sepal Width', 'petal_L': 'Petal Length', 'petal_W': 'Petal Width'}\n",
    "\n",
    "for key, value in full_labels.items():\n",
    "    pd.crosstab(iris[key], iris['irisclass'].astype('category')).plot(kind='bar', figsize = (8, 4))\n",
    "    plt.title(value + ' by Class')\n",
    "    plt.xlabel(value)\n",
    "    plt.ylabel('Frequency')\n",
    "    plt.show()"
   ]
  },
  {
   "cell_type": "markdown",
   "metadata": {},
   "source": [
    "We see from these simple plots that petal width and length are likely to be more useful in our classification problem than sepal length and width, since the ranges of the former two attributes are well-separated compared to the ranges of the latter two."
   ]
  },
  {
   "cell_type": "markdown",
   "metadata": {},
   "source": [
    "### Multiclass logistic regression"
   ]
  },
  {
   "cell_type": "markdown",
   "metadata": {},
   "source": [
    "We now prepare the data and carry out the regression. Note that the default linear solver for binary regression does not work for multiclass regression, so we have to change to another solver."
   ]
  },
  {
   "cell_type": "code",
   "execution_count": 11,
   "metadata": {
    "collapsed": true
   },
   "outputs": [],
   "source": [
    "X = iris[['sepal_L', 'sepal_W', 'petal_L', 'petal_W']]\n",
    "y = iris['irisclass']\n",
    "\n",
    "model = LogisticRegression(multi_class = 'multinomial', solver = 'newton-cg')\n",
    "model = model.fit(X, y)"
   ]
  },
  {
   "cell_type": "markdown",
   "metadata": {},
   "source": [
    "We check the accuracy on the training set:"
   ]
  },
  {
   "cell_type": "code",
   "execution_count": 8,
   "metadata": {},
   "outputs": [
    {
     "data": {
      "text/plain": [
       "0.97333333333333338"
      ]
     },
     "execution_count": 8,
     "metadata": {},
     "output_type": "execute_result"
    }
   ],
   "source": [
    "model.score(X, y)"
   ]
  },
  {
   "cell_type": "markdown",
   "metadata": {},
   "source": [
    "We evaluate the model using 10-fold cross-validation:"
   ]
  },
  {
   "cell_type": "code",
   "execution_count": 9,
   "metadata": {},
   "outputs": [
    {
     "name": "stdout",
     "output_type": "stream",
     "text": [
      "[ 1.          0.93333333  1.          1.          0.93333333  0.93333333\n",
      "  0.93333333  1.          1.          1.        ]\n",
      "0.973333333333\n"
     ]
    }
   ],
   "source": [
    "scores = cross_val_score(LogisticRegression(multi_class = 'multinomial', solver = 'newton-cg'), X, y, scoring='accuracy', cv=10)\n",
    "print(scores)\n",
    "print(scores.mean())"
   ]
  },
  {
   "cell_type": "markdown",
   "metadata": {},
   "source": [
    "### Regression with every possible combination of attributes"
   ]
  },
  {
   "cell_type": "markdown",
   "metadata": {},
   "source": [
    "We will now carry out the multiclass regression with every possible combination of attributes and compare the results to see which combination of attributes gives us the most accurate model. For this we need a function to compute the set of all subsets of a given set (AKA its power set), which I found on codereview:"
   ]
  },
  {
   "cell_type": "code",
   "execution_count": 10,
   "metadata": {},
   "outputs": [],
   "source": [
    "def get_power_set(s):\n",
    "\n",
    "    power_set = [set()]\n",
    "\n",
    "    for element in s:\n",
    "        one_element_set = {element}\n",
    "        power_set += [subset | one_element_set for subset in power_set]\n",
    "\n",
    "    return power_set"
   ]
  },
  {
   "cell_type": "markdown",
   "metadata": {},
   "source": [
    "We use this function to compute a list containing all possible combinations of attributes:"
   ]
  },
  {
   "cell_type": "code",
   "execution_count": 10,
   "metadata": {
    "collapsed": true
   },
   "outputs": [],
   "source": [
    "all_attributes = list(map(list, list(get_power_set(set(['sepal_L', 'sepal_W', 'petal_L', 'petal_W'])))))\n",
    "all_attributes.remove([])"
   ]
  },
  {
   "cell_type": "markdown",
   "metadata": {},
   "source": [
    "We write and then call a simple function to give us a dataframe containing the results of all the regressions (using 10-fold cross-validation, measured by accuracy)."
   ]
  },
  {
   "cell_type": "code",
   "execution_count": 11,
   "metadata": {},
   "outputs": [
    {
     "data": {
      "text/html": [
       "<div>\n",
       "<style>\n",
       "    .dataframe thead tr:only-child th {\n",
       "        text-align: right;\n",
       "    }\n",
       "\n",
       "    .dataframe thead th {\n",
       "        text-align: left;\n",
       "    }\n",
       "\n",
       "    .dataframe tbody tr th {\n",
       "        vertical-align: top;\n",
       "    }\n",
       "</style>\n",
       "<table border=\"1\" class=\"dataframe\">\n",
       "  <thead>\n",
       "    <tr style=\"text-align: right;\">\n",
       "      <th></th>\n",
       "      <th>mean score</th>\n",
       "    </tr>\n",
       "  </thead>\n",
       "  <tbody>\n",
       "    <tr>\n",
       "      <th>['petal_L']</th>\n",
       "      <td>0.953333</td>\n",
       "    </tr>\n",
       "    <tr>\n",
       "      <th>['sepal_W']</th>\n",
       "      <td>0.566667</td>\n",
       "    </tr>\n",
       "    <tr>\n",
       "      <th>['petal_L', 'sepal_W']</th>\n",
       "      <td>0.953333</td>\n",
       "    </tr>\n",
       "    <tr>\n",
       "      <th>['sepal_L']</th>\n",
       "      <td>0.753333</td>\n",
       "    </tr>\n",
       "    <tr>\n",
       "      <th>['petal_L', 'sepal_L']</th>\n",
       "      <td>0.96</td>\n",
       "    </tr>\n",
       "    <tr>\n",
       "      <th>['sepal_W', 'sepal_L']</th>\n",
       "      <td>0.806667</td>\n",
       "    </tr>\n",
       "    <tr>\n",
       "      <th>['petal_L', 'sepal_W', 'sepal_L']</th>\n",
       "      <td>0.953333</td>\n",
       "    </tr>\n",
       "    <tr>\n",
       "      <th>['petal_W']</th>\n",
       "      <td>0.96</td>\n",
       "    </tr>\n",
       "    <tr>\n",
       "      <th>['petal_L', 'petal_W']</th>\n",
       "      <td>0.96</td>\n",
       "    </tr>\n",
       "    <tr>\n",
       "      <th>['sepal_W', 'petal_W']</th>\n",
       "      <td>0.953333</td>\n",
       "    </tr>\n",
       "    <tr>\n",
       "      <th>['petal_L', 'sepal_W', 'petal_W']</th>\n",
       "      <td>0.973333</td>\n",
       "    </tr>\n",
       "    <tr>\n",
       "      <th>['sepal_L', 'petal_W']</th>\n",
       "      <td>0.946667</td>\n",
       "    </tr>\n",
       "    <tr>\n",
       "      <th>['petal_L', 'sepal_L', 'petal_W']</th>\n",
       "      <td>0.966667</td>\n",
       "    </tr>\n",
       "    <tr>\n",
       "      <th>['sepal_W', 'sepal_L', 'petal_W']</th>\n",
       "      <td>0.96</td>\n",
       "    </tr>\n",
       "    <tr>\n",
       "      <th>['petal_L', 'sepal_W', 'sepal_L', 'petal_W']</th>\n",
       "      <td>0.973333</td>\n",
       "    </tr>\n",
       "  </tbody>\n",
       "</table>\n",
       "</div>"
      ],
      "text/plain": [
       "                                             mean score\n",
       "['petal_L']                                    0.953333\n",
       "['sepal_W']                                    0.566667\n",
       "['petal_L', 'sepal_W']                         0.953333\n",
       "['sepal_L']                                    0.753333\n",
       "['petal_L', 'sepal_L']                             0.96\n",
       "['sepal_W', 'sepal_L']                         0.806667\n",
       "['petal_L', 'sepal_W', 'sepal_L']              0.953333\n",
       "['petal_W']                                        0.96\n",
       "['petal_L', 'petal_W']                             0.96\n",
       "['sepal_W', 'petal_W']                         0.953333\n",
       "['petal_L', 'sepal_W', 'petal_W']              0.973333\n",
       "['sepal_L', 'petal_W']                         0.946667\n",
       "['petal_L', 'sepal_L', 'petal_W']              0.966667\n",
       "['sepal_W', 'sepal_L', 'petal_W']                  0.96\n",
       "['petal_L', 'sepal_W', 'sepal_L', 'petal_W']   0.973333"
      ]
     },
     "execution_count": 11,
     "metadata": {},
     "output_type": "execute_result"
    }
   ],
   "source": [
    "def all_logits(lis):\n",
    "    dfr = pd.DataFrame(index = list(map(str, lis)), columns = ['mean score'])\n",
    "    for i in lis:\n",
    "        X2 = iris[i]\n",
    "        dfr.loc[str(i), 'mean score'] = cross_val_score(LogisticRegression(multi_class = 'multinomial', solver = 'newton-cg'), X2, y, scoring='accuracy', cv=10).mean()\n",
    "    return dfr\n",
    "all_logits(all_attributes)"
   ]
  },
  {
   "cell_type": "markdown",
   "metadata": {},
   "source": [
    "The results are interesting. We can get very high accuracy just by using a single attribute, petal width. Petal length is another excellent predictor as well. Sepal width and sepal length alone are rather poor predictors. \n",
    "\n",
    "All this is consistent with the simple bar plots we did above. For maximal accuracy with the smallest number of predictors, we can use petal length/width together with sepal width. If we wanted to sacrifice a little accuracy, we could get away with just petal length/width."
   ]
  },
  {
   "cell_type": "code",
   "execution_count": null,
   "metadata": {
    "collapsed": true
   },
   "outputs": [],
   "source": []
  }
 ],
 "metadata": {
  "kernelspec": {
   "display_name": "Python 3",
   "language": "python",
   "name": "python3"
  },
  "language_info": {
   "codemirror_mode": {
    "name": "ipython",
    "version": 3
   },
   "file_extension": ".py",
   "mimetype": "text/x-python",
   "name": "python",
   "nbconvert_exporter": "python",
   "pygments_lexer": "ipython3",
   "version": "3.6.2"
  }
 },
 "nbformat": 4,
 "nbformat_minor": 2
}
